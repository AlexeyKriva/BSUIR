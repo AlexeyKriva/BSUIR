{
 "cells": [
  {
   "cell_type": "code",
   "execution_count": 1,
   "id": "d5f2411e-0d8e-437d-86f8-12f1b767c030",
   "metadata": {
    "tags": []
   },
   "outputs": [],
   "source": [
    "import pandas as pd\n",
    "dataset = pd.read_csv(\"EPL Standings 2000-2022.csv\")"
   ]
  },
  {
   "cell_type": "code",
   "execution_count": 2,
   "id": "61bbb295-a0fa-4de3-a66b-59c02bf1d6db",
   "metadata": {
    "tags": []
   },
   "outputs": [
    {
     "data": {
      "text/html": [
       "<div>\n",
       "<style scoped>\n",
       "    .dataframe tbody tr th:only-of-type {\n",
       "        vertical-align: middle;\n",
       "    }\n",
       "\n",
       "    .dataframe tbody tr th {\n",
       "        vertical-align: top;\n",
       "    }\n",
       "\n",
       "    .dataframe thead th {\n",
       "        text-align: right;\n",
       "    }\n",
       "</style>\n",
       "<table border=\"1\" class=\"dataframe\">\n",
       "  <thead>\n",
       "    <tr style=\"text-align: right;\">\n",
       "      <th></th>\n",
       "      <th>Season</th>\n",
       "      <th>Pos</th>\n",
       "      <th>Team</th>\n",
       "      <th>Pld</th>\n",
       "      <th>W</th>\n",
       "      <th>D</th>\n",
       "      <th>L</th>\n",
       "      <th>GF</th>\n",
       "      <th>GA</th>\n",
       "      <th>GD</th>\n",
       "      <th>Pts</th>\n",
       "      <th>Qualification or relegation</th>\n",
       "    </tr>\n",
       "  </thead>\n",
       "  <tbody>\n",
       "    <tr>\n",
       "      <th>4</th>\n",
       "      <td>2000-01</td>\n",
       "      <td>5</td>\n",
       "      <td>Ipswich Town</td>\n",
       "      <td>38</td>\n",
       "      <td>20</td>\n",
       "      <td>6</td>\n",
       "      <td>12</td>\n",
       "      <td>57</td>\n",
       "      <td>42</td>\n",
       "      <td>15</td>\n",
       "      <td>66</td>\n",
       "      <td>Qualification for the UEFA Cup first round[a]</td>\n",
       "    </tr>\n",
       "    <tr>\n",
       "      <th>5</th>\n",
       "      <td>2000-01</td>\n",
       "      <td>6</td>\n",
       "      <td>Chelsea</td>\n",
       "      <td>38</td>\n",
       "      <td>17</td>\n",
       "      <td>10</td>\n",
       "      <td>11</td>\n",
       "      <td>68</td>\n",
       "      <td>45</td>\n",
       "      <td>23</td>\n",
       "      <td>61</td>\n",
       "      <td>Qualification for the UEFA Cup first round[a]</td>\n",
       "    </tr>\n",
       "    <tr>\n",
       "      <th>6</th>\n",
       "      <td>2000-01</td>\n",
       "      <td>7</td>\n",
       "      <td>Sunderland</td>\n",
       "      <td>38</td>\n",
       "      <td>15</td>\n",
       "      <td>12</td>\n",
       "      <td>11</td>\n",
       "      <td>46</td>\n",
       "      <td>41</td>\n",
       "      <td>5</td>\n",
       "      <td>57</td>\n",
       "      <td>Not Applicable</td>\n",
       "    </tr>\n",
       "    <tr>\n",
       "      <th>7</th>\n",
       "      <td>2000-01</td>\n",
       "      <td>8</td>\n",
       "      <td>Aston Villa</td>\n",
       "      <td>38</td>\n",
       "      <td>13</td>\n",
       "      <td>15</td>\n",
       "      <td>10</td>\n",
       "      <td>46</td>\n",
       "      <td>43</td>\n",
       "      <td>3</td>\n",
       "      <td>54</td>\n",
       "      <td>Qualification for the Intertoto Cup third round</td>\n",
       "    </tr>\n",
       "    <tr>\n",
       "      <th>8</th>\n",
       "      <td>2000-01</td>\n",
       "      <td>9</td>\n",
       "      <td>Charlton Athletic</td>\n",
       "      <td>38</td>\n",
       "      <td>14</td>\n",
       "      <td>10</td>\n",
       "      <td>14</td>\n",
       "      <td>50</td>\n",
       "      <td>57</td>\n",
       "      <td>-7</td>\n",
       "      <td>52</td>\n",
       "      <td>Not Applicable</td>\n",
       "    </tr>\n",
       "    <tr>\n",
       "      <th>...</th>\n",
       "      <td>...</td>\n",
       "      <td>...</td>\n",
       "      <td>...</td>\n",
       "      <td>...</td>\n",
       "      <td>...</td>\n",
       "      <td>...</td>\n",
       "      <td>...</td>\n",
       "      <td>...</td>\n",
       "      <td>...</td>\n",
       "      <td>...</td>\n",
       "      <td>...</td>\n",
       "      <td>...</td>\n",
       "    </tr>\n",
       "    <tr>\n",
       "      <th>435</th>\n",
       "      <td>2021-22</td>\n",
       "      <td>16</td>\n",
       "      <td>Everton</td>\n",
       "      <td>38</td>\n",
       "      <td>11</td>\n",
       "      <td>6</td>\n",
       "      <td>21</td>\n",
       "      <td>43</td>\n",
       "      <td>66</td>\n",
       "      <td>-23</td>\n",
       "      <td>39</td>\n",
       "      <td>Not Applicable</td>\n",
       "    </tr>\n",
       "    <tr>\n",
       "      <th>436</th>\n",
       "      <td>2021-22</td>\n",
       "      <td>17</td>\n",
       "      <td>Leeds United</td>\n",
       "      <td>38</td>\n",
       "      <td>9</td>\n",
       "      <td>11</td>\n",
       "      <td>18</td>\n",
       "      <td>42</td>\n",
       "      <td>79</td>\n",
       "      <td>-37</td>\n",
       "      <td>38</td>\n",
       "      <td>Not Applicable</td>\n",
       "    </tr>\n",
       "    <tr>\n",
       "      <th>437</th>\n",
       "      <td>2021-22</td>\n",
       "      <td>18</td>\n",
       "      <td>Burnley</td>\n",
       "      <td>38</td>\n",
       "      <td>7</td>\n",
       "      <td>14</td>\n",
       "      <td>17</td>\n",
       "      <td>34</td>\n",
       "      <td>53</td>\n",
       "      <td>-19</td>\n",
       "      <td>35</td>\n",
       "      <td>Relegation to the EFL Championship</td>\n",
       "    </tr>\n",
       "    <tr>\n",
       "      <th>438</th>\n",
       "      <td>2021-22</td>\n",
       "      <td>19</td>\n",
       "      <td>Watford</td>\n",
       "      <td>38</td>\n",
       "      <td>6</td>\n",
       "      <td>5</td>\n",
       "      <td>27</td>\n",
       "      <td>34</td>\n",
       "      <td>77</td>\n",
       "      <td>-43</td>\n",
       "      <td>23</td>\n",
       "      <td>Relegation to the EFL Championship</td>\n",
       "    </tr>\n",
       "    <tr>\n",
       "      <th>439</th>\n",
       "      <td>2021-22</td>\n",
       "      <td>20</td>\n",
       "      <td>Norwich City</td>\n",
       "      <td>38</td>\n",
       "      <td>5</td>\n",
       "      <td>7</td>\n",
       "      <td>26</td>\n",
       "      <td>23</td>\n",
       "      <td>84</td>\n",
       "      <td>-61</td>\n",
       "      <td>22</td>\n",
       "      <td>Relegation to the EFL Championship</td>\n",
       "    </tr>\n",
       "  </tbody>\n",
       "</table>\n",
       "<p>436 rows × 12 columns</p>\n",
       "</div>"
      ],
      "text/plain": [
       "      Season  Pos               Team  Pld   W   D   L  GF  GA  GD  Pts  \\\n",
       "4    2000-01    5       Ipswich Town   38  20   6  12  57  42  15   66   \n",
       "5    2000-01    6            Chelsea   38  17  10  11  68  45  23   61   \n",
       "6    2000-01    7         Sunderland   38  15  12  11  46  41   5   57   \n",
       "7    2000-01    8        Aston Villa   38  13  15  10  46  43   3   54   \n",
       "8    2000-01    9  Charlton Athletic   38  14  10  14  50  57  -7   52   \n",
       "..       ...  ...                ...  ...  ..  ..  ..  ..  ..  ..  ...   \n",
       "435  2021-22   16            Everton   38  11   6  21  43  66 -23   39   \n",
       "436  2021-22   17       Leeds United   38   9  11  18  42  79 -37   38   \n",
       "437  2021-22   18            Burnley   38   7  14  17  34  53 -19   35   \n",
       "438  2021-22   19            Watford   38   6   5  27  34  77 -43   23   \n",
       "439  2021-22   20       Norwich City   38   5   7  26  23  84 -61   22   \n",
       "\n",
       "                         Qualification or relegation  \n",
       "4      Qualification for the UEFA Cup first round[a]  \n",
       "5      Qualification for the UEFA Cup first round[a]  \n",
       "6                                     Not Applicable  \n",
       "7    Qualification for the Intertoto Cup third round  \n",
       "8                                     Not Applicable  \n",
       "..                                               ...  \n",
       "435                                   Not Applicable  \n",
       "436                                   Not Applicable  \n",
       "437               Relegation to the EFL Championship  \n",
       "438               Relegation to the EFL Championship  \n",
       "439               Relegation to the EFL Championship  \n",
       "\n",
       "[436 rows x 12 columns]"
      ]
     },
     "execution_count": 2,
     "metadata": {},
     "output_type": "execute_result"
    }
   ],
   "source": [
    "dataset = dataset.drop(0)\n",
    "dataset.drop({1,2,3})"
   ]
  },
  {
   "cell_type": "code",
   "execution_count": 3,
   "id": "56f68822-a58d-4cee-9cc1-54c9b4418d6b",
   "metadata": {
    "tags": []
   },
   "outputs": [],
   "source": [
    "for index, row in dataset.iterrows():\n",
    "    if row[\"Team\"] == \"Aston Villa\":\n",
    "        dataset = dataset.drop(index)"
   ]
  },
  {
   "cell_type": "code",
   "execution_count": 4,
   "id": "2b32aad2-5a33-4bb8-ba2e-28adbcce4886",
   "metadata": {
    "tags": []
   },
   "outputs": [
    {
     "name": "stdout",
     "output_type": "stream",
     "text": [
      "      Season  Pos          Team  Pld   W   D   L  GF  GA  GD  Pts  \\\n",
      "1    2000-01    2       Arsenal   38  20  10   8  63  38  25   70   \n",
      "2    2000-01    3     Liverpool   38  20   9   9  71  39  32   69   \n",
      "3    2000-01    4  Leeds United   38  20   8  10  64  43  21   68   \n",
      "4    2000-01    5  Ipswich Town   38  20   6  12  57  42  15   66   \n",
      "5    2000-01    6       Chelsea   38  17  10  11  68  45  23   61   \n",
      "..       ...  ...           ...  ...  ..  ..  ..  ..  ..  ..  ...   \n",
      "435  2021-22   16       Everton   38  11   6  21  43  66 -23   39   \n",
      "436  2021-22   17  Leeds United   38   9  11  18  42  79 -37   38   \n",
      "437  2021-22   18       Burnley   38   7  14  17  34  53 -19   35   \n",
      "438  2021-22   19       Watford   38   6   5  27  34  77 -43   23   \n",
      "439  2021-22   20  Norwich City   38   5   7  26  23  84 -61   22   \n",
      "\n",
      "                           Qualification or relegation  \n",
      "1    Qualification for the Champions League first g...  \n",
      "2    Qualification for the Champions League third q...  \n",
      "3        Qualification for the UEFA Cup first round[a]  \n",
      "4        Qualification for the UEFA Cup first round[a]  \n",
      "5        Qualification for the UEFA Cup first round[a]  \n",
      "..                                                 ...  \n",
      "435                                     Not Applicable  \n",
      "436                                     Not Applicable  \n",
      "437                 Relegation to the EFL Championship  \n",
      "438                 Relegation to the EFL Championship  \n",
      "439                 Relegation to the EFL Championship  \n",
      "\n",
      "[420 rows x 12 columns]\n"
     ]
    }
   ],
   "source": [
    "print(dataset)"
   ]
  },
  {
   "cell_type": "code",
   "execution_count": 5,
   "id": "73466d92-3d0b-4538-8c27-78f44d1d43c5",
   "metadata": {
    "tags": []
   },
   "outputs": [],
   "source": [
    "dataset = dataset.drop(\"Pld\", axis = 1)"
   ]
  },
  {
   "cell_type": "code",
   "execution_count": 6,
   "id": "28e0fca0-a45b-4bf8-8804-ff5806b65c4f",
   "metadata": {
    "tags": []
   },
   "outputs": [
    {
     "name": "stdout",
     "output_type": "stream",
     "text": [
      "      Season  Pos          Team   W   D   L  GF  GA  GD  Pts  \\\n",
      "1    2000-01    2       Arsenal  20  10   8  63  38  25   70   \n",
      "2    2000-01    3     Liverpool  20   9   9  71  39  32   69   \n",
      "3    2000-01    4  Leeds United  20   8  10  64  43  21   68   \n",
      "4    2000-01    5  Ipswich Town  20   6  12  57  42  15   66   \n",
      "5    2000-01    6       Chelsea  17  10  11  68  45  23   61   \n",
      "..       ...  ...           ...  ..  ..  ..  ..  ..  ..  ...   \n",
      "435  2021-22   16       Everton  11   6  21  43  66 -23   39   \n",
      "436  2021-22   17  Leeds United   9  11  18  42  79 -37   38   \n",
      "437  2021-22   18       Burnley   7  14  17  34  53 -19   35   \n",
      "438  2021-22   19       Watford   6   5  27  34  77 -43   23   \n",
      "439  2021-22   20  Norwich City   5   7  26  23  84 -61   22   \n",
      "\n",
      "                           Qualification or relegation  \n",
      "1    Qualification for the Champions League first g...  \n",
      "2    Qualification for the Champions League third q...  \n",
      "3        Qualification for the UEFA Cup first round[a]  \n",
      "4        Qualification for the UEFA Cup first round[a]  \n",
      "5        Qualification for the UEFA Cup first round[a]  \n",
      "..                                                 ...  \n",
      "435                                     Not Applicable  \n",
      "436                                     Not Applicable  \n",
      "437                 Relegation to the EFL Championship  \n",
      "438                 Relegation to the EFL Championship  \n",
      "439                 Relegation to the EFL Championship  \n",
      "\n",
      "[420 rows x 11 columns]\n"
     ]
    }
   ],
   "source": [
    "print(dataset)"
   ]
  },
  {
   "cell_type": "code",
   "execution_count": 7,
   "id": "c0d5c290-61ec-48b4-ba2f-2b966add8e0d",
   "metadata": {
    "tags": []
   },
   "outputs": [],
   "source": [
    "dataset[\"Team\"] = dataset[\"Team\"].str.replace(\"Norwich City\", \"Norwich_City\")"
   ]
  },
  {
   "cell_type": "code",
   "execution_count": 8,
   "id": "5032716f-b108-47c8-9481-4f8303094f1d",
   "metadata": {
    "tags": []
   },
   "outputs": [
    {
     "name": "stdout",
     "output_type": "stream",
     "text": [
      "      Season  Pos          Team   W   D   L  GF  GA  GD  Pts  \\\n",
      "1    2000-01    2       Arsenal  20  10   8  63  38  25   70   \n",
      "2    2000-01    3     Liverpool  20   9   9  71  39  32   69   \n",
      "3    2000-01    4  Leeds United  20   8  10  64  43  21   68   \n",
      "4    2000-01    5  Ipswich Town  20   6  12  57  42  15   66   \n",
      "5    2000-01    6       Chelsea  17  10  11  68  45  23   61   \n",
      "..       ...  ...           ...  ..  ..  ..  ..  ..  ..  ...   \n",
      "435  2021-22   16       Everton  11   6  21  43  66 -23   39   \n",
      "436  2021-22   17  Leeds United   9  11  18  42  79 -37   38   \n",
      "437  2021-22   18       Burnley   7  14  17  34  53 -19   35   \n",
      "438  2021-22   19       Watford   6   5  27  34  77 -43   23   \n",
      "439  2021-22   20  Norwich_City   5   7  26  23  84 -61   22   \n",
      "\n",
      "                           Qualification or relegation  \n",
      "1    Qualification for the Champions League first g...  \n",
      "2    Qualification for the Champions League third q...  \n",
      "3        Qualification for the UEFA Cup first round[a]  \n",
      "4        Qualification for the UEFA Cup first round[a]  \n",
      "5        Qualification for the UEFA Cup first round[a]  \n",
      "..                                                 ...  \n",
      "435                                     Not Applicable  \n",
      "436                                     Not Applicable  \n",
      "437                 Relegation to the EFL Championship  \n",
      "438                 Relegation to the EFL Championship  \n",
      "439                 Relegation to the EFL Championship  \n",
      "\n",
      "[420 rows x 11 columns]\n"
     ]
    }
   ],
   "source": [
    "print(dataset)"
   ]
  },
  {
   "cell_type": "code",
   "execution_count": 9,
   "id": "bb1e74af-2e99-4c9f-b2fb-36719fc1767e",
   "metadata": {
    "tags": []
   },
   "outputs": [
    {
     "name": "stdout",
     "output_type": "stream",
     "text": [
      "      Season  Pos          Team   W   D   L  GF  GA  GD  Pts  \\\n",
      "1    2000-01    2       Arsenal  20  10   8  63  38  25   70   \n",
      "2    2000-01    3     Liverpool  20   9   9  71  39  32   69   \n",
      "3    2000-01    4         Leeds  20   8  10  64  43  21   68   \n",
      "4    2000-01    5  Ipswich Town  20   6  12  57  42  15   66   \n",
      "5    2000-01    6       Chelsea  17  10  11  68  45  23   61   \n",
      "..       ...  ...           ...  ..  ..  ..  ..  ..  ..  ...   \n",
      "435  2021-22   16       Everton  11   6  21  43  66 -23   39   \n",
      "436  2021-22   17         Leeds   9  11  18  42  79 -37   38   \n",
      "437  2021-22   18       Burnley   7  14  17  34  53 -19   35   \n",
      "438  2021-22   19       Watford   6   5  27  34  77 -43   23   \n",
      "439  2021-22   20  Norwich_City   5   7  26  23  84 -61   22   \n",
      "\n",
      "                           Qualification or relegation  \n",
      "1    Qualification for the Champions League first g...  \n",
      "2    Qualification for the Champions League third q...  \n",
      "3        Qualification for the UEFA Cup first round[a]  \n",
      "4        Qualification for the UEFA Cup first round[a]  \n",
      "5        Qualification for the UEFA Cup first round[a]  \n",
      "..                                                 ...  \n",
      "435                                     Not Applicable  \n",
      "436                                     Not Applicable  \n",
      "437                 Relegation to the EFL Championship  \n",
      "438                 Relegation to the EFL Championship  \n",
      "439                 Relegation to the EFL Championship  \n",
      "\n",
      "[420 rows x 11 columns]\n"
     ]
    }
   ],
   "source": [
    "for index, row in dataset.iterrows():\n",
    "    symbol = row[\"Team\"][5]\n",
    "    if symbol == \" \":\n",
    "        dataset.at[index, \"Team\"] = dataset[\"Team\"][index][:5]\n",
    "print(dataset)"
   ]
  },
  {
   "cell_type": "code",
   "execution_count": 11,
   "id": "d5b59358-fe2d-4e22-9991-e8bd4a701379",
   "metadata": {
    "tags": []
   },
   "outputs": [],
   "source": [
    "dataset[\"W\"] = dataset[\"W\"].astype(int)\n",
    "dataset[\"D\"] = dataset[\"D\"].astype(int)\n",
    "dataset[\"L\"] = dataset[\"L\"].astype(int)\n",
    "dataset[\"GF\"] = dataset[\"GF\"].astype(int)\n",
    "dataset[\"GA\"] = dataset[\"GA\"].astype(int)\n",
    "dataset[\"GD\"] = dataset[\"GD\"].astype(int)\n",
    "dataset[\"Pts\"] = dataset[\"Pts\"].astype(int)"
   ]
  },
  {
   "cell_type": "code",
   "execution_count": 12,
   "id": "a6ded2a9-688a-4658-94fc-1d6776b7ce9e",
   "metadata": {
    "tags": []
   },
   "outputs": [],
   "source": [
    "dataset[\"Season\"] = dataset[\"Season\"].astype(str)\n",
    "dataset[[\"Year\", \"Month\"]] = dataset[\"Season\"].str.split(\"-\", expand=True)"
   ]
  },
  {
   "cell_type": "code",
   "execution_count": 13,
   "id": "60000a4e-fe1d-434a-8d6a-0df3219349d8",
   "metadata": {
    "tags": []
   },
   "outputs": [
    {
     "name": "stdout",
     "output_type": "stream",
     "text": [
      "      Season  Pos          Team   W   D   L  GF  GA  GD  Pts  \\\n",
      "1    2000-01    2       Arsenal  20  10   8  63  38  25   70   \n",
      "2    2000-01    3     Liverpool  20   9   9  71  39  32   69   \n",
      "3    2000-01    4         Leeds  20   8  10  64  43  21   68   \n",
      "4    2000-01    5  Ipswich Town  20   6  12  57  42  15   66   \n",
      "5    2000-01    6       Chelsea  17  10  11  68  45  23   61   \n",
      "..       ...  ...           ...  ..  ..  ..  ..  ..  ..  ...   \n",
      "435  2021-22   16       Everton  11   6  21  43  66 -23   39   \n",
      "436  2021-22   17         Leeds   9  11  18  42  79 -37   38   \n",
      "437  2021-22   18       Burnley   7  14  17  34  53 -19   35   \n",
      "438  2021-22   19       Watford   6   5  27  34  77 -43   23   \n",
      "439  2021-22   20  Norwich_City   5   7  26  23  84 -61   22   \n",
      "\n",
      "                           Qualification or relegation  Year Month  \n",
      "1    Qualification for the Champions League first g...  2000    01  \n",
      "2    Qualification for the Champions League third q...  2000    01  \n",
      "3        Qualification for the UEFA Cup first round[a]  2000    01  \n",
      "4        Qualification for the UEFA Cup first round[a]  2000    01  \n",
      "5        Qualification for the UEFA Cup first round[a]  2000    01  \n",
      "..                                                 ...   ...   ...  \n",
      "435                                     Not Applicable  2021    22  \n",
      "436                                     Not Applicable  2021    22  \n",
      "437                 Relegation to the EFL Championship  2021    22  \n",
      "438                 Relegation to the EFL Championship  2021    22  \n",
      "439                 Relegation to the EFL Championship  2021    22  \n",
      "\n",
      "[420 rows x 13 columns]\n"
     ]
    }
   ],
   "source": [
    "print(dataset)"
   ]
  },
  {
   "cell_type": "code",
   "execution_count": 14,
   "id": "61078cd0-02d9-4af6-9061-73725c17249d",
   "metadata": {
    "tags": []
   },
   "outputs": [],
   "source": [
    "dataset = dataset.drop(\"Season\", axis = 1)"
   ]
  },
  {
   "cell_type": "code",
   "execution_count": 15,
   "id": "c1d95056-182a-4552-a181-e2b2805ad8b3",
   "metadata": {
    "tags": []
   },
   "outputs": [
    {
     "name": "stdout",
     "output_type": "stream",
     "text": [
      "     Pos          Team   W   D   L  GF  GA  GD  Pts  \\\n",
      "1      2       Arsenal  20  10   8  63  38  25   70   \n",
      "2      3     Liverpool  20   9   9  71  39  32   69   \n",
      "3      4         Leeds  20   8  10  64  43  21   68   \n",
      "4      5  Ipswich Town  20   6  12  57  42  15   66   \n",
      "5      6       Chelsea  17  10  11  68  45  23   61   \n",
      "..   ...           ...  ..  ..  ..  ..  ..  ..  ...   \n",
      "435   16       Everton  11   6  21  43  66 -23   39   \n",
      "436   17         Leeds   9  11  18  42  79 -37   38   \n",
      "437   18       Burnley   7  14  17  34  53 -19   35   \n",
      "438   19       Watford   6   5  27  34  77 -43   23   \n",
      "439   20  Norwich_City   5   7  26  23  84 -61   22   \n",
      "\n",
      "                           Qualification or relegation  Year Month  \n",
      "1    Qualification for the Champions League first g...  2000    01  \n",
      "2    Qualification for the Champions League third q...  2000    01  \n",
      "3        Qualification for the UEFA Cup first round[a]  2000    01  \n",
      "4        Qualification for the UEFA Cup first round[a]  2000    01  \n",
      "5        Qualification for the UEFA Cup first round[a]  2000    01  \n",
      "..                                                 ...   ...   ...  \n",
      "435                                     Not Applicable  2021    22  \n",
      "436                                     Not Applicable  2021    22  \n",
      "437                 Relegation to the EFL Championship  2021    22  \n",
      "438                 Relegation to the EFL Championship  2021    22  \n",
      "439                 Relegation to the EFL Championship  2021    22  \n",
      "\n",
      "[420 rows x 12 columns]\n"
     ]
    }
   ],
   "source": [
    "print(dataset)"
   ]
  },
  {
   "cell_type": "code",
   "execution_count": 17,
   "id": "0b3238f1-98f9-4412-a28f-3f18306d38e7",
   "metadata": {
    "tags": []
   },
   "outputs": [],
   "source": [
    "dataset[\"Year\"] = dataset[\"Year\"].astype(int)\n",
    "dataset[\"Month\"] = dataset[\"Month\"].astype(int)"
   ]
  },
  {
   "cell_type": "code",
   "execution_count": 18,
   "id": "23d94a7a-6da6-4259-a59a-e3cf12b412b3",
   "metadata": {
    "tags": []
   },
   "outputs": [
    {
     "name": "stdout",
     "output_type": "stream",
     "text": [
      "     Pos          Team   W   D   L  GF  GA  GD  Pts  \\\n",
      "1      2       Arsenal  20  10   8  63  38  25   70   \n",
      "2      3     Liverpool  20   9   9  71  39  32   69   \n",
      "3      4         Leeds  20   8  10  64  43  21   68   \n",
      "4      5  Ipswich Town  20   6  12  57  42  15   66   \n",
      "5      6       Chelsea  17  10  11  68  45  23   61   \n",
      "..   ...           ...  ..  ..  ..  ..  ..  ..  ...   \n",
      "435   16       Everton  11   6  21  43  66 -23   39   \n",
      "436   17         Leeds   9  11  18  42  79 -37   38   \n",
      "437   18       Burnley   7  14  17  34  53 -19   35   \n",
      "438   19       Watford   6   5  27  34  77 -43   23   \n",
      "439   20  Norwich_City   5   7  26  23  84 -61   22   \n",
      "\n",
      "                           Qualification or relegation  Year  Month  \n",
      "1    Qualification for the Champions League first g...  2000      1  \n",
      "2    Qualification for the Champions League third q...  2000      1  \n",
      "3        Qualification for the UEFA Cup first round[a]  2000      1  \n",
      "4        Qualification for the UEFA Cup first round[a]  2000      1  \n",
      "5        Qualification for the UEFA Cup first round[a]  2000      1  \n",
      "..                                                 ...   ...    ...  \n",
      "435                                     Not Applicable  2021     22  \n",
      "436                                     Not Applicable  2021     22  \n",
      "437                 Relegation to the EFL Championship  2021     22  \n",
      "438                 Relegation to the EFL Championship  2021     22  \n",
      "439                 Relegation to the EFL Championship  2021     22  \n",
      "\n",
      "[420 rows x 12 columns]\n"
     ]
    }
   ],
   "source": [
    "print(dataset)"
   ]
  },
  {
   "cell_type": "code",
   "execution_count": 19,
   "id": "c3fada3b-8577-475a-914e-6ba22e18a281",
   "metadata": {
    "tags": []
   },
   "outputs": [],
   "source": [
    "dataset.to_csv(\n",
    "    \"EPL Standings 2000-2022.csv\"\n",
    ")\n",
    "dataset.to_csv(\n",
    "    \"EPL Standings 2000-2022.xlsx\"\n",
    ")"
   ]
  },
  {
   "cell_type": "code",
   "execution_count": null,
   "id": "b1e4e3d6-f82b-4712-b555-6bde04504be4",
   "metadata": {},
   "outputs": [],
   "source": []
  }
 ],
 "metadata": {
  "kernelspec": {
   "display_name": "Python 3 (ipykernel)",
   "language": "python",
   "name": "python3"
  },
  "language_info": {
   "codemirror_mode": {
    "name": "ipython",
    "version": 3
   },
   "file_extension": ".py",
   "mimetype": "text/x-python",
   "name": "python",
   "nbconvert_exporter": "python",
   "pygments_lexer": "ipython3",
   "version": "3.11.5"
  }
 },
 "nbformat": 4,
 "nbformat_minor": 5
}
